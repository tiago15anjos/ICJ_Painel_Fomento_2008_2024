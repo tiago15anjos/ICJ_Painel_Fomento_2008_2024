{
  "nbformat": 4,
  "nbformat_minor": 0,
  "metadata": {
    "colab": {
      "provenance": [],
      "authorship_tag": "ABX9TyOWRRBHcTt5thFAbe0GOmC2",
      "include_colab_link": true
    },
    "kernelspec": {
      "name": "python3",
      "display_name": "Python 3"
    },
    "language_info": {
      "name": "python"
    }
  },
  "cells": [
    {
      "cell_type": "markdown",
      "metadata": {
        "id": "view-in-github",
        "colab_type": "text"
      },
      "source": [
        "<a href=\"https://colab.research.google.com/github/tiago15anjos/ICJ_Painel_Fomento_2008_2024/blob/main/Matr%C3%ADculas_IES_2010_2023.ipynb\" target=\"_parent\"><img src=\"https://colab.research.google.com/assets/colab-badge.svg\" alt=\"Open In Colab\"/></a>"
      ]
    },
    {
      "cell_type": "markdown",
      "source": [
        "**1. Instale as bibliotecas necessárias**"
      ],
      "metadata": {
        "id": "oPO-I-AQOiLN"
      }
    },
    {
      "cell_type": "code",
      "execution_count": 1,
      "metadata": {
        "colab": {
          "base_uri": "https://localhost:8080/"
        },
        "id": "4C9qEHuPM0Ff",
        "outputId": "f996c5e2-6ca2-4d3e-edc8-8154eb898db6"
      },
      "outputs": [
        {
          "output_type": "stream",
          "name": "stdout",
          "text": [
            "Requirement already satisfied: pandas in /usr/local/lib/python3.11/dist-packages (2.2.2)\n",
            "Requirement already satisfied: openpyxl in /usr/local/lib/python3.11/dist-packages (3.1.5)\n",
            "Requirement already satisfied: numpy>=1.23.2 in /usr/local/lib/python3.11/dist-packages (from pandas) (2.0.2)\n",
            "Requirement already satisfied: python-dateutil>=2.8.2 in /usr/local/lib/python3.11/dist-packages (from pandas) (2.8.2)\n",
            "Requirement already satisfied: pytz>=2020.1 in /usr/local/lib/python3.11/dist-packages (from pandas) (2025.2)\n",
            "Requirement already satisfied: tzdata>=2022.7 in /usr/local/lib/python3.11/dist-packages (from pandas) (2025.2)\n",
            "Requirement already satisfied: et-xmlfile in /usr/local/lib/python3.11/dist-packages (from openpyxl) (2.0.0)\n",
            "Requirement already satisfied: six>=1.5 in /usr/local/lib/python3.11/dist-packages (from python-dateutil>=2.8.2->pandas) (1.17.0)\n"
          ]
        }
      ],
      "source": [
        "!pip install pandas openpyxl\n"
      ]
    },
    {
      "cell_type": "markdown",
      "source": [
        "**2. Suba os arquivos direto no Colab**"
      ],
      "metadata": {
        "id": "rTlKgOjBOvxe"
      }
    },
    {
      "cell_type": "code",
      "source": [
        "from google.colab import files\n",
        "uploaded = files.upload()"
      ],
      "metadata": {
        "colab": {
          "base_uri": "https://localhost:8080/",
          "height": 532
        },
        "id": "Z0KoeyywPW_8",
        "outputId": "cbde8fb5-89ac-428d-d2cd-2a64a810d74e"
      },
      "execution_count": 3,
      "outputs": [
        {
          "output_type": "display_data",
          "data": {
            "text/plain": [
              "<IPython.core.display.HTML object>"
            ],
            "text/html": [
              "\n",
              "     <input type=\"file\" id=\"files-ada70e3e-cb1b-4286-b14e-fae45b4cfe30\" name=\"files[]\" multiple disabled\n",
              "        style=\"border:none\" />\n",
              "     <output id=\"result-ada70e3e-cb1b-4286-b14e-fae45b4cfe30\">\n",
              "      Upload widget is only available when the cell has been executed in the\n",
              "      current browser session. Please rerun this cell to enable.\n",
              "      </output>\n",
              "      <script>// Copyright 2017 Google LLC\n",
              "//\n",
              "// Licensed under the Apache License, Version 2.0 (the \"License\");\n",
              "// you may not use this file except in compliance with the License.\n",
              "// You may obtain a copy of the License at\n",
              "//\n",
              "//      http://www.apache.org/licenses/LICENSE-2.0\n",
              "//\n",
              "// Unless required by applicable law or agreed to in writing, software\n",
              "// distributed under the License is distributed on an \"AS IS\" BASIS,\n",
              "// WITHOUT WARRANTIES OR CONDITIONS OF ANY KIND, either express or implied.\n",
              "// See the License for the specific language governing permissions and\n",
              "// limitations under the License.\n",
              "\n",
              "/**\n",
              " * @fileoverview Helpers for google.colab Python module.\n",
              " */\n",
              "(function(scope) {\n",
              "function span(text, styleAttributes = {}) {\n",
              "  const element = document.createElement('span');\n",
              "  element.textContent = text;\n",
              "  for (const key of Object.keys(styleAttributes)) {\n",
              "    element.style[key] = styleAttributes[key];\n",
              "  }\n",
              "  return element;\n",
              "}\n",
              "\n",
              "// Max number of bytes which will be uploaded at a time.\n",
              "const MAX_PAYLOAD_SIZE = 100 * 1024;\n",
              "\n",
              "function _uploadFiles(inputId, outputId) {\n",
              "  const steps = uploadFilesStep(inputId, outputId);\n",
              "  const outputElement = document.getElementById(outputId);\n",
              "  // Cache steps on the outputElement to make it available for the next call\n",
              "  // to uploadFilesContinue from Python.\n",
              "  outputElement.steps = steps;\n",
              "\n",
              "  return _uploadFilesContinue(outputId);\n",
              "}\n",
              "\n",
              "// This is roughly an async generator (not supported in the browser yet),\n",
              "// where there are multiple asynchronous steps and the Python side is going\n",
              "// to poll for completion of each step.\n",
              "// This uses a Promise to block the python side on completion of each step,\n",
              "// then passes the result of the previous step as the input to the next step.\n",
              "function _uploadFilesContinue(outputId) {\n",
              "  const outputElement = document.getElementById(outputId);\n",
              "  const steps = outputElement.steps;\n",
              "\n",
              "  const next = steps.next(outputElement.lastPromiseValue);\n",
              "  return Promise.resolve(next.value.promise).then((value) => {\n",
              "    // Cache the last promise value to make it available to the next\n",
              "    // step of the generator.\n",
              "    outputElement.lastPromiseValue = value;\n",
              "    return next.value.response;\n",
              "  });\n",
              "}\n",
              "\n",
              "/**\n",
              " * Generator function which is called between each async step of the upload\n",
              " * process.\n",
              " * @param {string} inputId Element ID of the input file picker element.\n",
              " * @param {string} outputId Element ID of the output display.\n",
              " * @return {!Iterable<!Object>} Iterable of next steps.\n",
              " */\n",
              "function* uploadFilesStep(inputId, outputId) {\n",
              "  const inputElement = document.getElementById(inputId);\n",
              "  inputElement.disabled = false;\n",
              "\n",
              "  const outputElement = document.getElementById(outputId);\n",
              "  outputElement.innerHTML = '';\n",
              "\n",
              "  const pickedPromise = new Promise((resolve) => {\n",
              "    inputElement.addEventListener('change', (e) => {\n",
              "      resolve(e.target.files);\n",
              "    });\n",
              "  });\n",
              "\n",
              "  const cancel = document.createElement('button');\n",
              "  inputElement.parentElement.appendChild(cancel);\n",
              "  cancel.textContent = 'Cancel upload';\n",
              "  const cancelPromise = new Promise((resolve) => {\n",
              "    cancel.onclick = () => {\n",
              "      resolve(null);\n",
              "    };\n",
              "  });\n",
              "\n",
              "  // Wait for the user to pick the files.\n",
              "  const files = yield {\n",
              "    promise: Promise.race([pickedPromise, cancelPromise]),\n",
              "    response: {\n",
              "      action: 'starting',\n",
              "    }\n",
              "  };\n",
              "\n",
              "  cancel.remove();\n",
              "\n",
              "  // Disable the input element since further picks are not allowed.\n",
              "  inputElement.disabled = true;\n",
              "\n",
              "  if (!files) {\n",
              "    return {\n",
              "      response: {\n",
              "        action: 'complete',\n",
              "      }\n",
              "    };\n",
              "  }\n",
              "\n",
              "  for (const file of files) {\n",
              "    const li = document.createElement('li');\n",
              "    li.append(span(file.name, {fontWeight: 'bold'}));\n",
              "    li.append(span(\n",
              "        `(${file.type || 'n/a'}) - ${file.size} bytes, ` +\n",
              "        `last modified: ${\n",
              "            file.lastModifiedDate ? file.lastModifiedDate.toLocaleDateString() :\n",
              "                                    'n/a'} - `));\n",
              "    const percent = span('0% done');\n",
              "    li.appendChild(percent);\n",
              "\n",
              "    outputElement.appendChild(li);\n",
              "\n",
              "    const fileDataPromise = new Promise((resolve) => {\n",
              "      const reader = new FileReader();\n",
              "      reader.onload = (e) => {\n",
              "        resolve(e.target.result);\n",
              "      };\n",
              "      reader.readAsArrayBuffer(file);\n",
              "    });\n",
              "    // Wait for the data to be ready.\n",
              "    let fileData = yield {\n",
              "      promise: fileDataPromise,\n",
              "      response: {\n",
              "        action: 'continue',\n",
              "      }\n",
              "    };\n",
              "\n",
              "    // Use a chunked sending to avoid message size limits. See b/62115660.\n",
              "    let position = 0;\n",
              "    do {\n",
              "      const length = Math.min(fileData.byteLength - position, MAX_PAYLOAD_SIZE);\n",
              "      const chunk = new Uint8Array(fileData, position, length);\n",
              "      position += length;\n",
              "\n",
              "      const base64 = btoa(String.fromCharCode.apply(null, chunk));\n",
              "      yield {\n",
              "        response: {\n",
              "          action: 'append',\n",
              "          file: file.name,\n",
              "          data: base64,\n",
              "        },\n",
              "      };\n",
              "\n",
              "      let percentDone = fileData.byteLength === 0 ?\n",
              "          100 :\n",
              "          Math.round((position / fileData.byteLength) * 100);\n",
              "      percent.textContent = `${percentDone}% done`;\n",
              "\n",
              "    } while (position < fileData.byteLength);\n",
              "  }\n",
              "\n",
              "  // All done.\n",
              "  yield {\n",
              "    response: {\n",
              "      action: 'complete',\n",
              "    }\n",
              "  };\n",
              "}\n",
              "\n",
              "scope.google = scope.google || {};\n",
              "scope.google.colab = scope.google.colab || {};\n",
              "scope.google.colab._files = {\n",
              "  _uploadFiles,\n",
              "  _uploadFilesContinue,\n",
              "};\n",
              "})(self);\n",
              "</script> "
            ]
          },
          "metadata": {}
        },
        {
          "output_type": "stream",
          "name": "stdout",
          "text": [
            "Saving Sinopse_Educação_Superior_Municipio_2010.xlsx to Sinopse_Educação_Superior_Municipio_2010.xlsx\n",
            "Saving Sinopse_Educação_Superior_Municipio_2011.xlsx to Sinopse_Educação_Superior_Municipio_2011.xlsx\n",
            "Saving Sinopse_Educação_Superior_Municipio_2012.xlsx to Sinopse_Educação_Superior_Municipio_2012.xlsx\n",
            "Saving Sinopse_Educação_Superior_Municipio_2013.xlsx to Sinopse_Educação_Superior_Municipio_2013.xlsx\n",
            "Saving Sinopse_Educação_Superior_Municipio_2014.xlsx to Sinopse_Educação_Superior_Municipio_2014.xlsx\n",
            "Saving Sinopse_Educação_Superior_Municipio_2015.xlsx to Sinopse_Educação_Superior_Municipio_2015.xlsx\n",
            "Saving Sinopse_Educação_Superior_Municipio_2016.xlsx to Sinopse_Educação_Superior_Municipio_2016.xlsx\n",
            "Saving Sinopse_Educação_Superior_Municipio_2017.xlsx to Sinopse_Educação_Superior_Municipio_2017.xlsx\n",
            "Saving Sinopse_Educação_Superior_Municipio_2018.xlsx to Sinopse_Educação_Superior_Municipio_2018.xlsx\n",
            "Saving Sinopse_Educação_Superior_Municipio_2019.xlsx to Sinopse_Educação_Superior_Municipio_2019.xlsx\n",
            "Saving Sinopse_Educação_Superior_Municipio_2020.xlsx to Sinopse_Educação_Superior_Municipio_2020.xlsx\n",
            "Saving Sinopse_Educação_Superior_Municipio_2021.xlsx to Sinopse_Educação_Superior_Municipio_2021.xlsx\n",
            "Saving Sinopse_Educação_Superior_Municipio_2022.xlsx to Sinopse_Educação_Superior_Municipio_2022.xlsx\n",
            "Saving Sinopse_Educação_Superior_Municipio_2023.xlsx to Sinopse_Educação_Superior_Municipio_2023.xlsx\n"
          ]
        }
      ]
    },
    {
      "cell_type": "markdown",
      "source": [
        "**3. Extraia a aba \"5.2\", adicione o ano e a categoria, e una os dados**"
      ],
      "metadata": {
        "id": "96_rVb7EbfYJ"
      }
    },
    {
      "cell_type": "code",
      "source": [
        "import pandas as pd\n",
        "import io\n",
        "import re\n",
        "\n",
        "# Lista para armazenar os DataFrames\n",
        "todas_abas = []\n",
        "\n",
        "# Loop pelos arquivos enviados\n",
        "for nome_arquivo in uploaded.keys():\n",
        "    # Extrair ano do nome do arquivo\n",
        "    match = re.search(r'(\\d{4})', nome_arquivo)\n",
        "    if match:\n",
        "        ano = int(match.group(1))\n",
        "    else:\n",
        "        print(f'Não foi possível extrair ano de {nome_arquivo}')\n",
        "        continue\n",
        "\n",
        "    try:\n",
        "        # Lê a aba \"5.2\"\n",
        "        df = pd.read_excel(io.BytesIO(uploaded[nome_arquivo]), sheet_name='5.2', engine='openpyxl')\n",
        "\n",
        "        # Adiciona colunas com o ano do arquivo e a categoria (ano de referência dos dados)\n",
        "        df['Ano_Arquivo'] = ano\n",
        "        df['Categoria_Dados'] = f\"Referência {ano}\"\n",
        "\n",
        "        todas_abas.append(df)\n",
        "        print(f'{nome_arquivo} carregado com sucesso.')\n",
        "    except Exception as e:\n",
        "        print(f'Erro ao carregar {nome_arquivo}: {e}')\n",
        "\n",
        "# Concatena todos os DataFrames\n",
        "df_final = pd.concat(todas_abas, ignore_index=True)\n",
        "\n",
        "# Salva o arquivo final\n",
        "df_final.to_excel('Sinopse_5.2_2010_a_2023.xlsx', index=False)\n",
        "print(\"Arquivo final salvo como 'Sinopse_5.2_2010_a_2023.xlsx'\")\n"
      ],
      "metadata": {
        "colab": {
          "base_uri": "https://localhost:8080/"
        },
        "id": "ij96QsM4bj33",
        "outputId": "7e38f2d6-3c10-4052-e3ad-e4b025f1665e"
      },
      "execution_count": 4,
      "outputs": [
        {
          "output_type": "stream",
          "name": "stdout",
          "text": [
            "Sinopse_Educação_Superior_Municipio_2010.xlsx carregado com sucesso.\n",
            "Sinopse_Educação_Superior_Municipio_2011.xlsx carregado com sucesso.\n",
            "Sinopse_Educação_Superior_Municipio_2012.xlsx carregado com sucesso.\n",
            "Sinopse_Educação_Superior_Municipio_2013.xlsx carregado com sucesso.\n",
            "Sinopse_Educação_Superior_Municipio_2014.xlsx carregado com sucesso.\n",
            "Sinopse_Educação_Superior_Municipio_2015.xlsx carregado com sucesso.\n",
            "Sinopse_Educação_Superior_Municipio_2016.xlsx carregado com sucesso.\n",
            "Sinopse_Educação_Superior_Municipio_2017.xlsx carregado com sucesso.\n",
            "Sinopse_Educação_Superior_Municipio_2018.xlsx carregado com sucesso.\n",
            "Sinopse_Educação_Superior_Municipio_2019.xlsx carregado com sucesso.\n",
            "Sinopse_Educação_Superior_Municipio_2020.xlsx carregado com sucesso.\n",
            "Sinopse_Educação_Superior_Municipio_2021.xlsx carregado com sucesso.\n",
            "Sinopse_Educação_Superior_Municipio_2022.xlsx carregado com sucesso.\n",
            "Sinopse_Educação_Superior_Municipio_2023.xlsx carregado com sucesso.\n",
            "Arquivo final salvo como 'Sinopse_5.2_2010_a_2023.xlsx'\n"
          ]
        }
      ]
    },
    {
      "cell_type": "markdown",
      "source": [
        "**4. Baixe o arquivo final**"
      ],
      "metadata": {
        "id": "v8xrOOyucVGK"
      }
    },
    {
      "cell_type": "code",
      "source": [
        "files.download('Sinopse_5.2_2010_a_2023.xlsx')"
      ],
      "metadata": {
        "colab": {
          "base_uri": "https://localhost:8080/",
          "height": 17
        },
        "id": "jCohnCbqcYG1",
        "outputId": "67d89831-d0e7-4c47-e907-89a8ea9ae3a6"
      },
      "execution_count": 5,
      "outputs": [
        {
          "output_type": "display_data",
          "data": {
            "text/plain": [
              "<IPython.core.display.Javascript object>"
            ],
            "application/javascript": [
              "\n",
              "    async function download(id, filename, size) {\n",
              "      if (!google.colab.kernel.accessAllowed) {\n",
              "        return;\n",
              "      }\n",
              "      const div = document.createElement('div');\n",
              "      const label = document.createElement('label');\n",
              "      label.textContent = `Downloading \"${filename}\": `;\n",
              "      div.appendChild(label);\n",
              "      const progress = document.createElement('progress');\n",
              "      progress.max = size;\n",
              "      div.appendChild(progress);\n",
              "      document.body.appendChild(div);\n",
              "\n",
              "      const buffers = [];\n",
              "      let downloaded = 0;\n",
              "\n",
              "      const channel = await google.colab.kernel.comms.open(id);\n",
              "      // Send a message to notify the kernel that we're ready.\n",
              "      channel.send({})\n",
              "\n",
              "      for await (const message of channel.messages) {\n",
              "        // Send a message to notify the kernel that we're ready.\n",
              "        channel.send({})\n",
              "        if (message.buffers) {\n",
              "          for (const buffer of message.buffers) {\n",
              "            buffers.push(buffer);\n",
              "            downloaded += buffer.byteLength;\n",
              "            progress.value = downloaded;\n",
              "          }\n",
              "        }\n",
              "      }\n",
              "      const blob = new Blob(buffers, {type: 'application/binary'});\n",
              "      const a = document.createElement('a');\n",
              "      a.href = window.URL.createObjectURL(blob);\n",
              "      a.download = filename;\n",
              "      div.appendChild(a);\n",
              "      a.click();\n",
              "      div.remove();\n",
              "    }\n",
              "  "
            ]
          },
          "metadata": {}
        },
        {
          "output_type": "display_data",
          "data": {
            "text/plain": [
              "<IPython.core.display.Javascript object>"
            ],
            "application/javascript": [
              "download(\"download_5db91190-e758-4bc3-b4ad-7a86d4fe49f9\", \"Sinopse_5.2_2010_a_2023.xlsx\", 2319470)"
            ]
          },
          "metadata": {}
        }
      ]
    }
  ]
}