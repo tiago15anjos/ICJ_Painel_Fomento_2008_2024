{
  "nbformat": 4,
  "nbformat_minor": 0,
  "metadata": {
    "colab": {
      "provenance": [],
      "authorship_tag": "ABX9TyPtinV08pj+ZWgOVJ7kQS/u",
      "include_colab_link": true
    },
    "kernelspec": {
      "name": "python3",
      "display_name": "Python 3"
    },
    "language_info": {
      "name": "python"
    }
  },
  "cells": [
    {
      "cell_type": "markdown",
      "metadata": {
        "id": "view-in-github",
        "colab_type": "text"
      },
      "source": [
        "<a href=\"https://colab.research.google.com/github/tiago15anjos/ICJ_Painel_Fomento_2008_2024/blob/main/Extra%C3%A7%C3%A3o_e_Consolida%C3%A7%C3%A3o_de_Dados_de_Matr%C3%ADculas_da_Educa%C3%A7%C3%A3o_B%C3%A1sica_(2008%E2%80%932023).ipynb\" target=\"_parent\"><img src=\"https://colab.research.google.com/assets/colab-badge.svg\" alt=\"Open In Colab\"/></a>"
      ]
    },
    {
      "cell_type": "markdown",
      "source": [
        "# Extração e Consolidação de Dados de Matrículas da Educação Básica (2008–2023)\n",
        "\n",
        "### Introdução\n",
        "Este notebook realiza a extração e consolidação dos dados de matrícula da educação básica entre os anos de 2008 e 2023, originalmente disponibilizados pelo INEP em arquivos separados. O objetivo é gerar um arquivo único, com abas específicas para cada ano.\n",
        "\n",
        "###Passo a passo:\n",
        " - Upload dos arquivos originais para o Colab\n",
        "\n",
        " - Código para extrair a aba \"Educação Básica 1.1\" de cada arquivo anual\n",
        "\n",
        " - Consolidação dos dados em um único arquivo .xlsx, com abas identificadas por ano"
      ],
      "metadata": {
        "id": "mB7-rBEFzuAO"
      }
    },
    {
      "cell_type": "code",
      "execution_count": 6,
      "metadata": {
        "colab": {
          "base_uri": "https://localhost:8080/"
        },
        "id": "k8QX8Xsephk3",
        "outputId": "e24f70fc-bd74-4371-a2bd-634aba8c8d72"
      },
      "outputs": [
        {
          "output_type": "stream",
          "name": "stdout",
          "text": [
            "Requirement already satisfied: openpyxl in /usr/local/lib/python3.11/dist-packages (3.1.5)\n",
            "Requirement already satisfied: et-xmlfile in /usr/local/lib/python3.11/dist-packages (from openpyxl) (2.0.0)\n"
          ]
        }
      ],
      "source": [
        "!pip install openpyxl"
      ]
    },
    {
      "cell_type": "code",
      "source": [
        "import pandas as pd\n",
        "import os\n",
        "\n",
        "# Nome da aba original a ser extraída\n",
        "nome_aba = \"Educação Básica 1.1\"\n",
        "\n",
        "# Nome do arquivo consolidado que será criado\n",
        "arquivo_consolidado = \"Matrículas_Educação_Básica_2008_2023.xlsx\"\n",
        "\n",
        "# Cria um ExcelWriter usando openpyxl como engine\n",
        "with pd.ExcelWriter(arquivo_consolidado, engine='openpyxl') as writer:\n",
        "\n",
        "    # Laço para processar cada arquivo (de 2008 até 2023)\n",
        "    for ano in range(2008, 2024):\n",
        "        arquivo_origem = f\"Sinopse_Estatistica_da_Educa‡ֶo_Basica_{ano}.xlsx\"\n",
        "\n",
        "        # Verifica se o arquivo original existe\n",
        "        if os.path.exists(arquivo_origem):\n",
        "            df = pd.read_excel(arquivo_origem, sheet_name=nome_aba, engine='openpyxl')\n",
        "            # Salva na aba específica do ano atual\n",
        "            nome_nova_aba = f\"Matrículas_{ano}\"\n",
        "            df.to_excel(writer, sheet_name=nome_nova_aba, index=False)\n",
        "            print(f\"[{ano}] Aba '{nome_aba}' extraída para '{nome_nova_aba}'.\")\n",
        "        else:\n",
        "            print(f\"[{ano}] Arquivo '{arquivo_origem}' não encontrado.\")\n",
        "\n",
        "print(f\"\\nArquivo consolidado '{arquivo_consolidado}' criado com sucesso!\")\n"
      ],
      "metadata": {
        "colab": {
          "base_uri": "https://localhost:8080/"
        },
        "id": "9fUHtJJUvz5H",
        "outputId": "d804512e-5038-4eb0-895c-3fba9c325928"
      },
      "execution_count": 7,
      "outputs": [
        {
          "output_type": "stream",
          "name": "stdout",
          "text": [
            "[2008] Aba 'Educação Básica 1.1' extraída para 'Matrículas_2008'.\n",
            "[2009] Aba 'Educação Básica 1.1' extraída para 'Matrículas_2009'.\n",
            "[2010] Aba 'Educação Básica 1.1' extraída para 'Matrículas_2010'.\n",
            "[2011] Aba 'Educação Básica 1.1' extraída para 'Matrículas_2011'.\n",
            "[2012] Aba 'Educação Básica 1.1' extraída para 'Matrículas_2012'.\n",
            "[2013] Aba 'Educação Básica 1.1' extraída para 'Matrículas_2013'.\n",
            "[2014] Aba 'Educação Básica 1.1' extraída para 'Matrículas_2014'.\n",
            "[2015] Aba 'Educação Básica 1.1' extraída para 'Matrículas_2015'.\n",
            "[2016] Aba 'Educação Básica 1.1' extraída para 'Matrículas_2016'.\n",
            "[2017] Aba 'Educação Básica 1.1' extraída para 'Matrículas_2017'.\n",
            "[2018] Aba 'Educação Básica 1.1' extraída para 'Matrículas_2018'.\n",
            "[2019] Aba 'Educação Básica 1.1' extraída para 'Matrículas_2019'.\n",
            "[2020] Aba 'Educação Básica 1.1' extraída para 'Matrículas_2020'.\n",
            "[2021] Aba 'Educação Básica 1.1' extraída para 'Matrículas_2021'.\n",
            "[2022] Aba 'Educação Básica 1.1' extraída para 'Matrículas_2022'.\n",
            "[2023] Aba 'Educação Básica 1.1' extraída para 'Matrículas_2023'.\n",
            "\n",
            "Arquivo consolidado 'Matrículas_Educação_Básica_2008_2023.xlsx' criado com sucesso!\n"
          ]
        }
      ]
    }
  ]
}